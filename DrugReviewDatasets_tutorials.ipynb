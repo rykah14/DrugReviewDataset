{
  "nbformat": 4,
  "nbformat_minor": 0,
  "metadata": {
    "colab": {
      "name": "DrugReviewDatasets_tutorials.ipynb",
      "provenance": [],
      "collapsed_sections": [],
      "authorship_tag": "ABX9TyPOzTbeqDByQWubcraXUzn2",
      "include_colab_link": true
    },
    "kernelspec": {
      "name": "python3",
      "display_name": "Python 3"
    }
  },
  "cells": [
    {
      "cell_type": "markdown",
      "metadata": {
        "id": "view-in-github",
        "colab_type": "text"
      },
      "source": [
        "<a href=\"https://colab.research.google.com/github/rykah14/DrugReviewDataset/blob/main/DrugReviewDatasets_tutorials.ipynb\" target=\"_parent\"><img src=\"https://colab.research.google.com/assets/colab-badge.svg\" alt=\"Open In Colab\"/></a>"
      ]
    },
    {
      "cell_type": "code",
      "metadata": {
        "colab": {
          "base_uri": "https://localhost:8080/"
        },
        "id": "sXrE4qOzJhiF",
        "outputId": "120cc2ba-08fd-4c2c-a000-44b0bc5a1136"
      },
      "source": [
        "!pip install wget"
      ],
      "execution_count": null,
      "outputs": [
        {
          "output_type": "stream",
          "text": [
            "Collecting wget\n",
            "  Downloading https://files.pythonhosted.org/packages/47/6a/62e288da7bcda82b935ff0c6cfe542970f04e29c756b0e147251b2fb251f/wget-3.2.zip\n",
            "Building wheels for collected packages: wget\n",
            "  Building wheel for wget (setup.py) ... \u001b[?25l\u001b[?25hdone\n",
            "  Created wheel for wget: filename=wget-3.2-cp36-none-any.whl size=9682 sha256=e84174bf84f271409a5ea13cbea81d7d5888f2eb00f3581bba9c8d820a9c5520\n",
            "  Stored in directory: /root/.cache/pip/wheels/40/15/30/7d8f7cea2902b4db79e3fea550d7d7b85ecb27ef992b618f3f\n",
            "Successfully built wget\n",
            "Installing collected packages: wget\n",
            "Successfully installed wget-3.2\n"
          ],
          "name": "stdout"
        }
      ]
    },
    {
      "cell_type": "code",
      "metadata": {
        "colab": {
          "base_uri": "https://localhost:8080/"
        },
        "id": "mGp5vCnUJk9k",
        "outputId": "b7826b33-efd2-41ed-a199-1c7580cc30bd"
      },
      "source": [
        "!wget https://archive.ics.uci.edu/ml/machine-learning-databases/00462/drugsCom_raw.zip"
      ],
      "execution_count": null,
      "outputs": [
        {
          "output_type": "stream",
          "text": [
            "--2021-01-06 10:03:48--  https://archive.ics.uci.edu/ml/machine-learning-databases/00462/drugsCom_raw.zip\n",
            "Resolving archive.ics.uci.edu (archive.ics.uci.edu)... 128.195.10.252\n",
            "Connecting to archive.ics.uci.edu (archive.ics.uci.edu)|128.195.10.252|:443... connected.\n",
            "HTTP request sent, awaiting response... 200 OK\n",
            "Length: 42989872 (41M) [application/x-httpd-php]\n",
            "Saving to: ‘drugsCom_raw.zip’\n",
            "\n",
            "drugsCom_raw.zip    100%[===================>]  41.00M  68.3MB/s    in 0.6s    \n",
            "\n",
            "2021-01-06 10:03:49 (68.3 MB/s) - ‘drugsCom_raw.zip’ saved [42989872/42989872]\n",
            "\n"
          ],
          "name": "stdout"
        }
      ]
    },
    {
      "cell_type": "code",
      "metadata": {
        "colab": {
          "base_uri": "https://localhost:8080/"
        },
        "id": "kFP-TSmmJy4k",
        "outputId": "103441e1-b5a4-4ee9-d5f9-1b42db508962"
      },
      "source": [
        "!unzip drugsCom_raw.zip"
      ],
      "execution_count": null,
      "outputs": [
        {
          "output_type": "stream",
          "text": [
            "Archive:  drugsCom_raw.zip\n",
            "  inflating: drugsComTest_raw.tsv    \n",
            "  inflating: drugsComTrain_raw.tsv   \n"
          ],
          "name": "stdout"
        }
      ]
    },
    {
      "cell_type": "code",
      "metadata": {
        "colab": {
          "base_uri": "https://localhost:8080/"
        },
        "id": "_GBmVQmYJ2Bt",
        "outputId": "fec6b43e-c0a3-420c-c080-0e757f1785c0"
      },
      "source": [
        "import pandas as pd\n",
        "\n",
        "# Load the dataset into a pandas dataframe.\n",
        "df = pd.read_table(\"drugsComTest_raw.tsv\", delimiter='\\t', header=None, names=['drugName','condition','review',\t'rating'\t,'date','usefulCount'])\n",
        "\n",
        "# Report the number of sentences.\n",
        "print('Number of training sentences: {:,}\\n'.format(df.shape[0]))\n",
        "# Display 10 random rows from the data.\n",
        "df.sample(50)\n",
        "\n",
        "mode_value = df.mode()['condition']\n",
        "print(\"conditionを多いもの順にソート\")\n",
        "print(df['condition'].value_counts())\n",
        "\n",
        "print(\"drugNameを多いもの順にソート\")\n",
        "print(df['drugName'].value_counts())\n",
        "\n",
        "print(\"ratingを多いもの順にソート\")\n",
        "print(df['rating'].value_counts())\n"
      ],
      "execution_count": null,
      "outputs": [
        {
          "output_type": "stream",
          "text": [
            "Number of training sentences: 53,767\n",
            "\n",
            "conditionを多いもの順にソート\n",
            "Birth Control                   9648\n",
            "Depression                      3095\n",
            "Pain                            2100\n",
            "Anxiety                         1908\n",
            "Acne                            1847\n",
            "                                ... \n",
            "Neutropenia                        1\n",
            "Oppositional Defiant Disorde       1\n",
            "Immunosuppression                  1\n",
            "Parkinsonism                       1\n",
            "Topical Disinfection               1\n",
            "Name: condition, Length: 709, dtype: int64\n",
            "drugNameを多いもの順にソート\n",
            "Levonorgestrel                       1273\n",
            "Etonogestrel                         1085\n",
            "Ethinyl estradiol / norethindrone     903\n",
            "Nexplanon                             736\n",
            "Ethinyl estradiol / norgestimate      673\n",
            "                                     ... \n",
            "Cefepime                                1\n",
            "Taxol                                   1\n",
            "Oxistat                                 1\n",
            "Pulmicort Respules                      1\n",
            "Prolixin                                1\n",
            "Name: drugName, Length: 2638, dtype: int64\n",
            "ratingを多いもの順にソート\n",
            "10.0      17016\n",
            "9.0        9177\n",
            "1.0        7299\n",
            "8.0        6156\n",
            "7.0        3091\n",
            "5.0        2710\n",
            "2.0        2334\n",
            "3.0        2205\n",
            "6.0        2119\n",
            "4.0        1659\n",
            "rating        1\n",
            "Name: rating, dtype: int64\n"
          ],
          "name": "stdout"
        }
      ]
    }
  ]
}